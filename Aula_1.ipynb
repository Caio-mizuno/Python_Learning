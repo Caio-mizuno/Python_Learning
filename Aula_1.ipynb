{
  "nbformat": 4,
  "nbformat_minor": 0,
  "metadata": {
    "colab": {
      "name": "Aula 1.ipynb",
      "provenance": []
    },
    "kernelspec": {
      "name": "python3",
      "display_name": "Python 3"
    },
    "language_info": {
      "name": "python"
    }
  },
  "cells": [
    {
      "cell_type": "markdown",
      "source": [
        "# **Python - Course**"
      ],
      "metadata": {
        "id": "mMe_hMi3lK1t"
      }
    },
    {
      "cell_type": "code",
      "execution_count": null,
      "metadata": {
        "colab": {
          "base_uri": "https://localhost:8080/"
        },
        "id": "wyW0tGpKkEaq",
        "outputId": "f8fbf542-03a3-41a8-c590-5a4f56091bdc"
      },
      "outputs": [
        {
          "output_type": "execute_result",
          "data": {
            "text/plain": [
              "2"
            ]
          },
          "metadata": {},
          "execution_count": 1
        }
      ],
      "source": [
        "1+1"
      ]
    },
    {
      "cell_type": "code",
      "source": [
        "\"CAIO\""
      ],
      "metadata": {
        "colab": {
          "base_uri": "https://localhost:8080/",
          "height": 35
        },
        "id": "r1N3cOSimJLz",
        "outputId": "fbf34312-b303-4c99-92b8-1579ff095570"
      },
      "execution_count": null,
      "outputs": [
        {
          "output_type": "execute_result",
          "data": {
            "text/plain": [
              "'CAIO'"
            ],
            "application/vnd.google.colaboratory.intrinsic+json": {
              "type": "string"
            }
          },
          "metadata": {},
          "execution_count": 4
        }
      ]
    },
    {
      "cell_type": "code",
      "source": [
        "'caio'"
      ],
      "metadata": {
        "colab": {
          "base_uri": "https://localhost:8080/",
          "height": 35
        },
        "id": "9t5tyKfQmLK6",
        "outputId": "0e495d22-04ba-4fa2-e52f-6fb9b1121bcf"
      },
      "execution_count": null,
      "outputs": [
        {
          "output_type": "execute_result",
          "data": {
            "text/plain": [
              "'caio'"
            ],
            "application/vnd.google.colaboratory.intrinsic+json": {
              "type": "string"
            }
          },
          "metadata": {},
          "execution_count": 5
        }
      ]
    },
    {
      "cell_type": "code",
      "source": [
        "nome = 'caio'\n",
        "nome\n",
        "idade = 25"
      ],
      "metadata": {
        "id": "pfi3InkVmNjM"
      },
      "execution_count": null,
      "outputs": []
    },
    {
      "cell_type": "code",
      "source": [
        "print(nome)"
      ],
      "metadata": {
        "colab": {
          "base_uri": "https://localhost:8080/"
        },
        "id": "6JkB5R75mmIA",
        "outputId": "bba4179d-3a0d-4728-d509-a3a0eadcb6b8"
      },
      "execution_count": null,
      "outputs": [
        {
          "output_type": "stream",
          "name": "stdout",
          "text": [
            "caio\n"
          ]
        }
      ]
    },
    {
      "cell_type": "code",
      "source": [
        "print(f'nome é {nome} e idade é {idade}')"
      ],
      "metadata": {
        "id": "ThTi4yrom5uy",
        "colab": {
          "base_uri": "https://localhost:8080/"
        },
        "outputId": "0a2c224e-9eca-4f99-92f6-d21168bd63f3"
      },
      "execution_count": null,
      "outputs": [
        {
          "output_type": "stream",
          "name": "stdout",
          "text": [
            "nome é caio e idade é 25\n"
          ]
        }
      ]
    },
    {
      "cell_type": "markdown",
      "source": [
        "# **Functions**"
      ],
      "metadata": {
        "id": "O70D8sRmnlOV"
      }
    },
    {
      "cell_type": "code",
      "source": [
        "def saudacao():\n",
        "    nome = input('Qual seu nome? ')\n",
        "    print(f'Olá, {nome}')"
      ],
      "metadata": {
        "id": "xzbtAe7Wnpv_"
      },
      "execution_count": null,
      "outputs": []
    },
    {
      "cell_type": "code",
      "source": [
        "saudacao()\n"
      ],
      "metadata": {
        "colab": {
          "base_uri": "https://localhost:8080/"
        },
        "id": "3tJY4vV3n475",
        "outputId": "b7ee5592-713e-4dcd-f99a-38137212e19e"
      },
      "execution_count": null,
      "outputs": [
        {
          "output_type": "stream",
          "name": "stdout",
          "text": [
            "Qual seu nome? Caio\n",
            "Olá, Caio\n"
          ]
        }
      ]
    },
    {
      "cell_type": "code",
      "source": [
        "x = 38764684\n",
        "s=3\n",
        "abs(3)"
      ],
      "metadata": {
        "colab": {
          "base_uri": "https://localhost:8080/"
        },
        "id": "eH6goeQ-p_Zs",
        "outputId": "ef3608d5-e78b-4ed7-83b3-e8e669559f98"
      },
      "execution_count": null,
      "outputs": [
        {
          "output_type": "execute_result",
          "data": {
            "text/plain": [
              "3"
            ]
          },
          "metadata": {},
          "execution_count": 44
        }
      ]
    },
    {
      "cell_type": "code",
      "source": [
        "listItens = [1,-2,-4,7]\n",
        "\n",
        "def sign_num_check (items):\n",
        "  for item in items:\n",
        "    if(item>0):\n",
        "      print(f'{item} é positivo!')\n",
        "    else:\n",
        "      print(f'{item} é negativo!')\n",
        "\n",
        "sign_num_check(listItens)\n",
        "# -----------------------------------------------------\n",
        "permitions = []\n",
        "\n",
        "def permitions_check(items):\n",
        "  for item in items:\n",
        "    if (item>0): \n",
        "      permitions.append(True)\n",
        "    else:\n",
        "      permitions.append(False)\n",
        "    \n",
        "permitions_check(listItens)\n",
        "for item in permitions:\n",
        "  if item == True:\n",
        "    print(True)\n",
        "  else:\n",
        "    print(False)"
      ],
      "metadata": {
        "id": "l8E_yJ2DqCRd",
        "colab": {
          "base_uri": "https://localhost:8080/"
        },
        "outputId": "3a87b7dc-8de9-462e-f0e4-5f7a9f7a1954"
      },
      "execution_count": null,
      "outputs": [
        {
          "output_type": "stream",
          "name": "stdout",
          "text": [
            "1 é positivo!\n",
            "-2 é negativo!\n",
            "-4 é negativo!\n",
            "7 é positivo!\n",
            "True\n",
            "False\n",
            "False\n",
            "True\n"
          ]
        }
      ]
    },
    {
      "cell_type": "code",
      "source": [
        ""
      ],
      "metadata": {
        "id": "d7baaHmyi8v5"
      },
      "execution_count": null,
      "outputs": []
    },
    {
      "cell_type": "markdown",
      "source": [
        "#**IMPORT LIBS**"
      ],
      "metadata": {
        "id": "_OwWsi1Hp5YW"
      }
    },
    {
      "cell_type": "markdown",
      "source": [
        "### Random Numbers & Seed"
      ],
      "metadata": {
        "id": "ZGiEPJQKrjAs"
      }
    },
    {
      "cell_type": "code",
      "source": [
        "from random import randrange,seed\n",
        "\n",
        "seed(3)\n",
        "randrange(0,11)\n"
      ],
      "metadata": {
        "colab": {
          "base_uri": "https://localhost:8080/"
        },
        "id": "0nOc7mF4qDS_",
        "outputId": "f0cbae32-40b0-48be-d8e6-09bb1cab7f40"
      },
      "execution_count": null,
      "outputs": [
        {
          "output_type": "execute_result",
          "data": {
            "text/plain": [
              "3"
            ]
          },
          "metadata": {},
          "execution_count": 25
        }
      ]
    },
    {
      "cell_type": "code",
      "source": [
        "\n",
        "notes=[]\n",
        "\n",
        "for item in range(10):\n",
        "  notes.append(randrange(0,11))\n",
        "\n",
        "notes"
      ],
      "metadata": {
        "colab": {
          "base_uri": "https://localhost:8080/"
        },
        "id": "GYyCotHWrVL-",
        "outputId": "90264940-25e3-492a-af11-361fa8086e3b"
      },
      "execution_count": null,
      "outputs": [
        {
          "output_type": "execute_result",
          "data": {
            "text/plain": [
              "[9, 8, 2, 5, 9, 7, 10, 9, 1, 9]"
            ]
          },
          "metadata": {},
          "execution_count": 28
        }
      ]
    },
    {
      "cell_type": "code",
      "source": [
        ""
      ],
      "metadata": {
        "id": "RvZS2jzyrsEh"
      },
      "execution_count": null,
      "outputs": []
    },
    {
      "cell_type": "markdown",
      "source": [
        "### Criating graphics"
      ],
      "metadata": {
        "id": "ij8j-s0Hrubt"
      }
    },
    {
      "cell_type": "markdown",
      "source": [
        "Matiplotlib"
      ],
      "metadata": {
        "id": "LXhxCLT1sLvt"
      }
    },
    {
      "cell_type": "code",
      "source": [
        "import matplotlib.pyplot as plt\n"
      ],
      "metadata": {
        "id": "crTLTovnsNzZ"
      },
      "execution_count": null,
      "outputs": []
    },
    {
      "cell_type": "code",
      "source": [
        "# To generate this script, It needs to execute scripts before\n",
        "x =  list (range(1,11))\n",
        "x\n",
        "y = notes\n",
        "y\n",
        "plt.plot(x, y, marker='x',color='darkblue')\n",
        "plt.title('Notas randomicas')\n",
        "plt.xlabel('Possíveis Notas')\n",
        "plt.ylabel('Notas registradas')\n",
        "plt.show()"
      ],
      "metadata": {
        "colab": {
          "base_uri": "https://localhost:8080/",
          "height": 295
        },
        "id": "vhh-wDsBrwmV",
        "outputId": "d7419123-0b2b-428e-a445-1dcc88eed7a6"
      },
      "execution_count": null,
      "outputs": [
        {
          "output_type": "display_data",
          "data": {
            "text/plain": [
              "<Figure size 432x288 with 1 Axes>"
            ],
            "image/png": "[encoded data removed]"
          },
          "metadata": {
            "needs_background": "light"
          }
        }
      ]
    },
    {
      "cell_type": "code",
      "source": [
        ""
      ],
      "metadata": {
        "id": "BRPLmRQmtBgF"
      },
      "execution_count": null,
      "outputs": []
    }
  ]
}